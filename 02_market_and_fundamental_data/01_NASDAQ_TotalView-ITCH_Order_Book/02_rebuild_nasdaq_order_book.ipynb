{
 "cells": [
  {
   "cell_type": "markdown",
   "metadata": {},
   "source": [
    "# Working with Order Book Data: NASDAQ ITCH"
   ]
  },
  {
   "cell_type": "markdown",
   "metadata": {},
   "source": [
    "The primary source of market data is the order book, which is continuously updated in real-time throughout the day to reflect all trading activity. Exchanges typically offer this data as a real-time service and may provide some historical data for free.\n",
    "\n",
    "The trading activity is reflected in numerous messages about trade orders sent by market participants. These messages typically conform to the electronic Financial Information eXchange (FIX) communications protocol for real-time exchange of securities transactions and market data or a native exchange protocol. "
   ]
  },
  {
   "cell_type": "markdown",
   "metadata": {},
   "source": [
    "## Imports"
   ]
  },
  {
   "cell_type": "code",
   "execution_count": 24,
   "metadata": {
    "ExecuteTime": {
     "end_time": "2021-02-23T04:35:31.453166Z",
     "start_time": "2021-02-23T04:35:30.946085Z"
    }
   },
   "outputs": [],
   "source": [
    "from pathlib import Path\n",
    "from collections import Counter\n",
    "from datetime import timedelta\n",
    "from datetime import datetime\n",
    "from time import time\n",
    "#%load_ext cudf.pandas\n",
    "import pandas as pd\n",
    "import numpy as np\n",
    "\n",
    "import matplotlib.pyplot as plt\n",
    "import matplotlib.patches as mpatches\n",
    "import seaborn as sns"
   ]
  },
  {
   "cell_type": "code",
   "execution_count": 2,
   "metadata": {
    "ExecuteTime": {
     "end_time": "2021-02-23T04:35:31.456596Z",
     "start_time": "2021-02-23T04:35:31.454220Z"
    }
   },
   "outputs": [],
   "source": [
    "sns.set_style('whitegrid')"
   ]
  },
  {
   "cell_type": "code",
   "execution_count": 3,
   "metadata": {
    "ExecuteTime": {
     "end_time": "2021-02-23T04:35:31.881674Z",
     "start_time": "2021-02-23T04:35:31.879435Z"
    }
   },
   "outputs": [],
   "source": [
    "def format_time(t):\n",
    "    \"\"\"Return a formatted time string 'HH:MM:SS\n",
    "    based on a numeric time() value\"\"\"\n",
    "    m, s = divmod(t, 60)\n",
    "    h, m = divmod(m, 60)\n",
    "    return f'{h:0>2.0f}:{m:0>2.0f}:{s:0>2.0f}'"
   ]
  },
  {
   "cell_type": "markdown",
   "metadata": {},
   "source": [
    "### Set Data paths"
   ]
  },
  {
   "cell_type": "markdown",
   "metadata": {},
   "source": [
    "We will store the download in a `data` subdirectory and convert the result to `hdf` format (discussed in the last section of chapter 2)."
   ]
  },
  {
   "cell_type": "code",
   "execution_count": 4,
   "metadata": {
    "ExecuteTime": {
     "end_time": "2020-06-13T21:07:45.351588Z",
     "start_time": "2020-06-13T21:07:45.344392Z"
    }
   },
   "outputs": [],
   "source": [
    "data_path = Path('/home/rick/Documents/ML4T/data/02_01') # set to e.g. external harddrive\n",
    "itch_store = str(data_path / 'itch.h5')\n",
    "order_book_store = data_path / 'order_book.h5'\n",
    "date = '01302020'"
   ]
  },
  {
   "cell_type": "markdown",
   "metadata": {},
   "source": [
    "## Build Order Book"
   ]
  },
  {
   "cell_type": "code",
   "execution_count": 5,
   "metadata": {
    "ExecuteTime": {
     "end_time": "2020-06-13T21:07:45.359537Z",
     "start_time": "2020-06-13T21:07:45.352366Z"
    }
   },
   "outputs": [],
   "source": [
    "stock = 'TSLA'\n",
    "order_dict = {-1: 'sell', 1: 'buy'}"
   ]
  },
  {
   "cell_type": "markdown",
   "metadata": {},
   "source": [
    "The parsed messages allow us to rebuild the order flow for the given day. The 'R' message type contains a listing of all stocks traded during a given day, including information about initial public offerings (IPOs) and trading restrictions."
   ]
  },
  {
   "cell_type": "markdown",
   "metadata": {},
   "source": [
    "Throughout the day, new orders are added, and orders that are executed and canceled are removed from the order book. The proper accounting for messages that reference orders placed on a prior date would require tracking the order book over multiple days, but we are ignoring this aspect here."
   ]
  },
  {
   "cell_type": "markdown",
   "metadata": {},
   "source": [
    "### Get all messages for given stock"
   ]
  },
  {
   "cell_type": "markdown",
   "metadata": {},
   "source": [
    "The `get_messages()` function illustrates how to collect the orders for a single stock that affects trading (refer to the ITCH specification for details about each message):"
   ]
  },
  {
   "cell_type": "code",
   "execution_count": 6,
   "metadata": {
    "ExecuteTime": {
     "end_time": "2020-06-13T21:07:45.368319Z",
     "start_time": "2020-06-13T21:07:45.360585Z"
    }
   },
   "outputs": [],
   "source": [
    "# def get_messages(date, stock=stock):\n",
    "#     \"\"\"Collect trading messages for given stock\"\"\"\n",
    "#     with pd.HDFStore(itch_store) as store:\n",
    "#         stock_locate = store.select('R', where='stock = stock').stock_locate.iloc[0]\n",
    "#         target = 'stock_locate = stock_locate'\n",
    "\n",
    "#         data = {}\n",
    "#         # trading message types\n",
    "#         messages = ['A', 'F', 'E', 'C', 'X', 'D', 'U', 'P', 'Q']\n",
    "#         for m in messages:\n",
    "#             data[m] = store.select(m, where=target).drop('stock_locate', axis=1).assign(type=m)\n",
    "\n",
    "#     order_cols = ['order_reference_number', 'buy_sell_indicator', 'shares', 'price']\n",
    "#     orders = pd.concat([data['A'], data['F']], sort=False, ignore_index=True).loc[:, order_cols]\n",
    "\n",
    "#     for m in messages[2: -3]:\n",
    "#         data[m] = data[m].merge(orders, how='left')\n",
    "\n",
    "#     data['U'] = data['U'].merge(orders, how='left',\n",
    "#                                 right_on='order_reference_number',\n",
    "#                                 left_on='original_order_reference_number',\n",
    "#                                 suffixes=['', '_replaced'])\n",
    "\n",
    "#     data['Q'].rename(columns={'cross_price': 'price'}, inplace=True)\n",
    "#     data['X']['shares'] = data['X']['cancelled_shares']\n",
    "#     data['X'] = data['X'].dropna(subset=['price'])\n",
    "\n",
    "#     data = pd.concat([data[m] for m in messages], ignore_index=True, sort=False)\n",
    "#     data['date'] = pd.to_datetime(date, format='%m%d%Y')\n",
    "#     data.timestamp = data['date'].add(data.timestamp)\n",
    "#     data = data[data.printable != 0]\n",
    "\n",
    "#     drop_cols = ['tracking_number', 'order_reference_number', 'original_order_reference_number',\n",
    "#                  'cross_type', 'new_order_reference_number', 'attribution', 'match_number',\n",
    "#                  'printable', 'date', 'cancelled_shares']\n",
    "#     return data.drop(drop_cols, axis=1).sort_values('timestamp').reset_index(drop=True)\n",
    "def get_messages(date, stock=stock):\n",
    "    \"\"\"Collect trading messages for given stock\"\"\"\n",
    "    with pd.HDFStore(itch_store) as store:\n",
    "        # Load the entire 'R' dataset\n",
    "        stock_data = store.select('R')\n",
    "        \n",
    "        # Check if 'stock_locate' exists before filtering\n",
    "        if 'stock_locate' in stock_data.columns:\n",
    "            stock_locate = stock_data[stock_data['stock'] == stock].stock_locate.iloc[0]\n",
    "        else:\n",
    "            raise ValueError(\"'stock_locate' column not found in 'R' data.\")\n",
    "\n",
    "        target = f'stock_locate == {stock_locate}'\n",
    "\n",
    "        data = {}\n",
    "        # Trading message types\n",
    "        messages = ['A', 'F', 'E', 'C', 'X', 'D', 'U', 'P', 'Q']\n",
    "        for m in messages:\n",
    "            # Load the data\n",
    "            data[m] = store.select(m)\n",
    "            \n",
    "            # Apply the filter in Pandas if 'stock_locate' exists in this message type\n",
    "            if 'stock_locate' in data[m].columns:\n",
    "                data[m] = data[m].query(target).drop('stock_locate', axis=1)\n",
    "            # Add a 'type' column\n",
    "            data[m] = data[m].assign(type=m)\n",
    "\n",
    "    # (Continue with the rest of the function)\n",
    "    order_cols = ['order_reference_number', 'buy_sell_indicator', 'shares', 'price']\n",
    "    orders = pd.concat([data['A'], data['F']], sort=False, ignore_index=True).loc[:, order_cols]\n",
    "\n",
    "    for m in messages[2: -3]:\n",
    "        data[m] = data[m].merge(orders, how='left')\n",
    "\n",
    "    data['U'] = data['U'].merge(orders, how='left',\n",
    "                                right_on='order_reference_number',\n",
    "                                left_on='original_order_reference_number',\n",
    "                                suffixes=['', '_replaced'])\n",
    "\n",
    "    data['Q'].rename(columns={'cross_price': 'price'}, inplace=True)\n",
    "    data['X']['shares'] = data['X']['cancelled_shares']\n",
    "    data['X'] = data['X'].dropna(subset=['price'])\n",
    "\n",
    "    data = pd.concat([data[m] for m in messages], ignore_index=True, sort=False)\n",
    "    data['date'] = pd.to_datetime(date, format='%m%d%Y')\n",
    "    data.timestamp = data['date'].add(data.timestamp)\n",
    "    data = data[data.printable != 0]\n",
    "\n",
    "    drop_cols = ['tracking_number', 'order_reference_number', 'original_order_reference_number',\n",
    "                 'cross_type', 'new_order_reference_number', 'attribution', 'match_number',\n",
    "                 'printable', 'date', 'cancelled_shares']\n",
    "    return data.drop(drop_cols, axis=1).sort_values('timestamp').reset_index(drop=True)\n",
    "\n"
   ]
  },
  {
   "cell_type": "code",
   "execution_count": 7,
   "metadata": {
    "ExecuteTime": {
     "end_time": "2020-06-13T21:07:52.850622Z",
     "start_time": "2020-06-13T21:07:45.369617Z"
    }
   },
   "outputs": [
    {
     "name": "stdout",
     "output_type": "stream",
     "text": [
      "<class 'cudf.core.dataframe.DataFrame'>\n",
      "RangeIndex: 2966792 entries, 0 to 2966791\n",
      "Data columns (total 9 columns):\n",
      " #   Column              Dtype\n",
      "---  ------              -----\n",
      " 0   timestamp           datetime64[ns]\n",
      " 1   buy_sell_indicator  float64\n",
      " 2   shares              float64\n",
      " 3   price               float64\n",
      " 4   type                object\n",
      " 5   executed_shares     float64\n",
      " 6   execution_price     float64\n",
      " 7   shares_replaced     float64\n",
      " 8   price_replaced      float64\n",
      "dtypes: datetime64[ns](1), float64(7), object(1)\n",
      "memory usage: 195.2+ MB\n"
     ]
    }
   ],
   "source": [
    "messages = get_messages(date=date)\n",
    "#messages.info(null_counts=True)\n",
    "messages.info()"
   ]
  },
  {
   "cell_type": "code",
   "execution_count": 8,
   "metadata": {
    "ExecuteTime": {
     "end_time": "2020-06-13T21:07:52.938322Z",
     "start_time": "2020-06-13T21:07:52.851768Z"
    }
   },
   "outputs": [
    {
     "name": "stdout",
     "output_type": "stream",
     "text": [
      "<class 'pandas.io.pytables.HDFStore'>\n",
      "File path: /home/rick/Documents/ML4T/data/02_01/order_book.h5\n",
      "/TSLA/buy                 frame_table  (typ->appendable,nrows->39079673,ncols->2,indexers->[index],dc->[])\n",
      "/TSLA/messages            frame        (shape->[2966792,9])                                               \n",
      "/TSLA/sell                frame_table  (typ->appendable,nrows->41662713,ncols->2,indexers->[index],dc->[])\n",
      "/TSLA/trades              frame        (shape->[481952,3])                                                \n"
     ]
    }
   ],
   "source": [
    "with pd.HDFStore(order_book_store) as store:\n",
    "    key = f'{stock}/messages'\n",
    "    store.put(key, messages)\n",
    "    print(store.info())"
   ]
  },
  {
   "cell_type": "markdown",
   "metadata": {},
   "source": [
    "### Combine Trading Records"
   ]
  },
  {
   "cell_type": "markdown",
   "metadata": {},
   "source": [
    "Reconstructing successful trades, that is, orders that are executed as opposed to those that were canceled from trade-related message types, C, E, P, and Q, is relatively straightforward:"
   ]
  },
  {
   "cell_type": "code",
   "execution_count": 9,
   "metadata": {
    "ExecuteTime": {
     "end_time": "2020-06-13T21:07:52.942982Z",
     "start_time": "2020-06-13T21:07:52.939226Z"
    }
   },
   "outputs": [],
   "source": [
    "def get_trades(m):\n",
    "    \"\"\"Combine C, E, P and Q messages into trading records\"\"\"\n",
    "    trade_dict = {'executed_shares': 'shares', 'execution_price': 'price'}\n",
    "    cols = ['timestamp', 'executed_shares']\n",
    "    trades = pd.concat([m.loc[m.type == 'E', cols + ['price']].rename(columns=trade_dict),\n",
    "                        m.loc[m.type == 'C', cols + ['execution_price']].rename(columns=trade_dict),\n",
    "                        m.loc[m.type == 'P', ['timestamp', 'price', 'shares']],\n",
    "                        m.loc[m.type == 'Q', ['timestamp', 'price', 'shares']].assign(cross=1),\n",
    "                        ], sort=False).dropna(subset=['price']).fillna(0)\n",
    "    return trades.set_index('timestamp').sort_index().astype(int)"
   ]
  },
  {
   "cell_type": "code",
   "execution_count": 10,
   "metadata": {
    "ExecuteTime": {
     "end_time": "2020-06-13T21:07:53.089116Z",
     "start_time": "2020-06-13T21:07:52.944447Z"
    }
   },
   "outputs": [
    {
     "name": "stdout",
     "output_type": "stream",
     "text": [
      "<class 'cudf.core.dataframe.DataFrame'>\n",
      "DatetimeIndex: 481952 entries, 2020-01-30 04:00:04.437803704 to 2020-01-30 19:59:50.553615744\n",
      "Data columns (total 3 columns):\n",
      " #   Column  Non-Null Count   Dtype\n",
      "---  ------  --------------   -----\n",
      " 0   shares  481952 non-null  int64\n",
      " 1   price   481952 non-null  int64\n",
      " 2   cross   481952 non-null  int64\n",
      "dtypes: int64(3)\n",
      "memory usage: 14.7 MB\n",
      "None\n"
     ]
    }
   ],
   "source": [
    "trades = get_trades(messages)\n",
    "print(trades.info())"
   ]
  },
  {
   "cell_type": "code",
   "execution_count": 11,
   "metadata": {
    "ExecuteTime": {
     "end_time": "2020-06-13T21:07:53.099575Z",
     "start_time": "2020-06-13T21:07:53.090217Z"
    }
   },
   "outputs": [],
   "source": [
    "with pd.HDFStore(order_book_store) as store:\n",
    "    store.put(f'{stock}/trades', trades)"
   ]
  },
  {
   "cell_type": "markdown",
   "metadata": {},
   "source": [
    "### Create Orders"
   ]
  },
  {
   "cell_type": "markdown",
   "metadata": {},
   "source": [
    "The order book keeps track of limit orders, and the various price levels for buy and sell orders constitute the depth of the order book. To reconstruct the order book for a given level of depth requires the following steps:\n"
   ]
  },
  {
   "cell_type": "markdown",
   "metadata": {},
   "source": [
    "The `add_orders()` function accumulates sell orders in ascending, and buy orders in descending order for a given timestamp up to the desired level of depth:"
   ]
  },
  {
   "cell_type": "code",
   "execution_count": 12,
   "metadata": {
    "ExecuteTime": {
     "end_time": "2020-06-13T21:07:53.114484Z",
     "start_time": "2020-06-13T21:07:53.101193Z"
    }
   },
   "outputs": [],
   "source": [
    "def add_orders(orders, buysell, nlevels):\n",
    "    \"\"\"Add orders up to desired depth given by nlevels;\n",
    "        sell in ascending, buy in descending order\n",
    "    \"\"\"\n",
    "    new_order = []\n",
    "    items = sorted(orders.copy().items())\n",
    "    if buysell == 1:\n",
    "        items = reversed(items)  \n",
    "    for i, (p, s) in enumerate(items, 1):\n",
    "        new_order.append((p, s))\n",
    "        if i == nlevels:\n",
    "            break\n",
    "    return orders, new_order"
   ]
  },
  {
   "cell_type": "code",
   "execution_count": 13,
   "metadata": {
    "ExecuteTime": {
     "end_time": "2020-06-13T21:07:53.144011Z",
     "start_time": "2020-06-13T21:07:53.119535Z"
    }
   },
   "outputs": [],
   "source": [
    "def save_orders(orders, append=False):\n",
    "    cols = ['price', 'shares']\n",
    "    for buysell, book in orders.items():\n",
    "        df = (pd.concat([pd.DataFrame(data=data,\n",
    "                                     columns=cols)\n",
    "                         .assign(timestamp=t) \n",
    "                         for t, data in book.items()]))\n",
    "        key = f'{stock}/{order_dict[buysell]}'\n",
    "        df.loc[:, ['price', 'shares']] = df.loc[:, ['price', 'shares']].astype(int)\n",
    "        with pd.HDFStore(order_book_store) as store:\n",
    "            if append:\n",
    "                store.append(key, df.set_index('timestamp'), format='t')\n",
    "            else:\n",
    "                store.put(key, df.set_index('timestamp'))"
   ]
  },
  {
   "cell_type": "markdown",
   "metadata": {},
   "source": [
    "We iterate over all ITCH messages and process orders and their replacements as required by the specification (this can take a while):"
   ]
  },
  {
   "cell_type": "code",
   "execution_count": 14,
   "metadata": {
    "ExecuteTime": {
     "end_time": "2020-06-13T21:30:07.890442Z",
     "start_time": "2020-06-13T21:07:53.146684Z"
    }
   },
   "outputs": [
    {
     "name": "stdout",
     "output_type": "stream",
     "text": [
      "100,000\t\t00:00:17\n",
      "200,000\t\t00:00:27\n",
      "300,000\t\t00:01:02\n",
      "400,000\t\t00:01:01\n",
      "500,000\t\t00:00:58\n",
      "600,000\t\t00:00:58\n",
      "700,000\t\t00:00:57\n",
      "800,000\t\t00:00:60\n",
      "900,000\t\t00:01:03\n",
      "1,000,000\t\t00:00:60\n",
      "1,100,000\t\t00:00:57\n",
      "1,200,000\t\t00:00:56\n",
      "1,300,000\t\t00:00:58\n",
      "1,400,000\t\t00:01:01\n",
      "1,500,000\t\t00:01:04\n",
      "1,600,000\t\t00:01:02\n",
      "1,700,000\t\t00:00:59\n",
      "1,800,000\t\t00:00:58\n",
      "1,900,000\t\t00:00:57\n",
      "2,000,000\t\t00:00:57\n",
      "2,100,000\t\t00:00:55\n",
      "2,200,000\t\t00:00:58\n",
      "2,300,000\t\t00:00:55\n",
      "2,400,000\t\t00:00:55\n",
      "2,500,000\t\t00:00:53\n",
      "2,600,000\t\t00:00:51\n",
      "2,700,000\t\t00:01:02\n",
      "2,800,000\t\t00:00:60\n",
      "2,900,000\t\t00:01:06\n"
     ]
    }
   ],
   "source": [
    "order_book = {-1: {}, 1: {}}\n",
    "current_orders = {-1: Counter(), 1: Counter()}\n",
    "message_counter = Counter()\n",
    "nlevels = 100\n",
    "\n",
    "start = time()\n",
    "for message in messages.itertuples():\n",
    "    i = message[0]\n",
    "    if i % 1e5 == 0 and i > 0:\n",
    "        print(f'{i:,.0f}\\t\\t{format_time(time() - start)}')\n",
    "        save_orders(order_book, append=True)\n",
    "        order_book = {-1: {}, 1: {}}\n",
    "        start = time()\n",
    "    if np.isnan(message.buy_sell_indicator):\n",
    "        continue\n",
    "    message_counter.update(message.type)\n",
    "\n",
    "    buysell = message.buy_sell_indicator\n",
    "    price, shares = None, None\n",
    "\n",
    "    if message.type in ['A', 'F', 'U']:\n",
    "        price = int(message.price)\n",
    "        shares = int(message.shares)\n",
    "\n",
    "        current_orders[buysell].update({price: shares})\n",
    "        current_orders[buysell], new_order = add_orders(current_orders[buysell], buysell, nlevels)\n",
    "        order_book[buysell][message.timestamp] = new_order\n",
    "\n",
    "    if message.type in ['E', 'C', 'X', 'D', 'U']:\n",
    "        if message.type == 'U':\n",
    "            if not np.isnan(message.shares_replaced):\n",
    "                price = int(message.price_replaced)\n",
    "                shares = -int(message.shares_replaced)\n",
    "        else:\n",
    "            if not np.isnan(message.price):\n",
    "                price = int(message.price)\n",
    "                shares = -int(message.shares)\n",
    "\n",
    "        if price is not None:\n",
    "            current_orders[buysell].update({price: shares})\n",
    "            if current_orders[buysell][price] <= 0:\n",
    "                current_orders[buysell].pop(price)\n",
    "            current_orders[buysell], new_order = add_orders(current_orders[buysell], buysell, nlevels)\n",
    "            order_book[buysell][message.timestamp] = new_order"
   ]
  },
  {
   "cell_type": "code",
   "execution_count": 15,
   "metadata": {
    "ExecuteTime": {
     "end_time": "2020-06-13T21:30:07.893896Z",
     "start_time": "2020-06-13T21:30:07.891323Z"
    }
   },
   "outputs": [
    {
     "name": "stdout",
     "output_type": "stream",
     "text": [
      "A     833764\n",
      "D    1428576\n",
      "E     359772\n",
      "P     119942\n",
      "X       4436\n",
      "F      10870\n",
      "U      15508\n",
      "C       2232\n",
      "dtype: int64\n"
     ]
    }
   ],
   "source": [
    "message_counter = pd.Series(message_counter)\n",
    "print(message_counter)"
   ]
  },
  {
   "cell_type": "code",
   "execution_count": 16,
   "metadata": {
    "ExecuteTime": {
     "end_time": "2020-06-13T21:30:07.924423Z",
     "start_time": "2020-06-13T21:30:07.894865Z"
    }
   },
   "outputs": [
    {
     "name": "stdout",
     "output_type": "stream",
     "text": [
      "<class 'pandas.io.pytables.HDFStore'>\n",
      "File path: /home/rick/Documents/ML4T/data/02_01/order_book.h5\n",
      "/TSLA/buy                 frame_table  (typ->appendable,nrows->78159246,ncols->2,indexers->[index],dc->[])\n",
      "/TSLA/messages            frame        (shape->[2966792,9])                                               \n",
      "/TSLA/sell                frame_table  (typ->appendable,nrows->83325426,ncols->2,indexers->[index],dc->[])\n",
      "/TSLA/trades              frame        (shape->[481952,3])                                                \n"
     ]
    }
   ],
   "source": [
    "with pd.HDFStore(order_book_store) as store:\n",
    "    print(store.info())"
   ]
  },
  {
   "cell_type": "markdown",
   "metadata": {},
   "source": [
    "## Order Book Depth"
   ]
  },
  {
   "cell_type": "code",
   "execution_count": 17,
   "metadata": {
    "ExecuteTime": {
     "end_time": "2020-06-13T21:30:42.967953Z",
     "start_time": "2020-06-13T21:30:07.925375Z"
    }
   },
   "outputs": [],
   "source": [
    "with pd.HDFStore(order_book_store) as store:\n",
    "    buy = store[f'{stock}/buy'].reset_index().drop_duplicates()\n",
    "    sell = store[f'{stock}/sell'].reset_index().drop_duplicates()"
   ]
  },
  {
   "cell_type": "markdown",
   "metadata": {},
   "source": [
    "### Price to Decimals"
   ]
  },
  {
   "cell_type": "code",
   "execution_count": 18,
   "metadata": {
    "ExecuteTime": {
     "end_time": "2020-06-13T21:30:43.463675Z",
     "start_time": "2020-06-13T21:30:42.968888Z"
    }
   },
   "outputs": [],
   "source": [
    "buy.price = buy.price.mul(1e-4)\n",
    "sell.price = sell.price.mul(1e-4)"
   ]
  },
  {
   "cell_type": "markdown",
   "metadata": {},
   "source": [
    "### Remove outliers"
   ]
  },
  {
   "cell_type": "code",
   "execution_count": 19,
   "metadata": {
    "ExecuteTime": {
     "end_time": "2020-06-13T21:30:47.363925Z",
     "start_time": "2020-06-13T21:30:43.464537Z"
    }
   },
   "outputs": [
    {
     "data": {
      "text/html": [
       "<div>\n",
       "<style scoped>\n",
       "    .dataframe tbody tr th:only-of-type {\n",
       "        vertical-align: middle;\n",
       "    }\n",
       "\n",
       "    .dataframe tbody tr th {\n",
       "        vertical-align: top;\n",
       "    }\n",
       "\n",
       "    .dataframe thead th {\n",
       "        text-align: right;\n",
       "    }\n",
       "</style>\n",
       "<table border=\"1\" class=\"dataframe\">\n",
       "  <thead>\n",
       "    <tr style=\"text-align: right;\">\n",
       "      <th></th>\n",
       "      <th>buy</th>\n",
       "      <th>sell</th>\n",
       "    </tr>\n",
       "  </thead>\n",
       "  <tbody>\n",
       "    <tr>\n",
       "      <th>count</th>\n",
       "      <td>3.907927e+07</td>\n",
       "      <td>4.166221e+07</td>\n",
       "    </tr>\n",
       "    <tr>\n",
       "      <th>mean</th>\n",
       "      <td>6.392214e+02</td>\n",
       "      <td>6.303454e+02</td>\n",
       "    </tr>\n",
       "    <tr>\n",
       "      <th>std</th>\n",
       "      <td>9.720250e+00</td>\n",
       "      <td>4.972581e+01</td>\n",
       "    </tr>\n",
       "    <tr>\n",
       "      <th>min</th>\n",
       "      <td>3.560000e+02</td>\n",
       "      <td>6.183300e+02</td>\n",
       "    </tr>\n",
       "    <tr>\n",
       "      <th>1%</th>\n",
       "      <td>6.144200e+02</td>\n",
       "      <td>6.193200e+02</td>\n",
       "    </tr>\n",
       "    <tr>\n",
       "      <th>2%</th>\n",
       "      <td>6.172000e+02</td>\n",
       "      <td>6.193900e+02</td>\n",
       "    </tr>\n",
       "    <tr>\n",
       "      <th>10%</th>\n",
       "      <td>6.275000e+02</td>\n",
       "      <td>6.206400e+02</td>\n",
       "    </tr>\n",
       "    <tr>\n",
       "      <th>25%</th>\n",
       "      <td>6.370900e+02</td>\n",
       "      <td>6.239200e+02</td>\n",
       "    </tr>\n",
       "    <tr>\n",
       "      <th>50%</th>\n",
       "      <td>6.410000e+02</td>\n",
       "      <td>6.292400e+02</td>\n",
       "    </tr>\n",
       "    <tr>\n",
       "      <th>75%</th>\n",
       "      <td>6.447600e+02</td>\n",
       "      <td>6.346300e+02</td>\n",
       "    </tr>\n",
       "    <tr>\n",
       "      <th>90%</th>\n",
       "      <td>6.470000e+02</td>\n",
       "      <td>6.401100e+02</td>\n",
       "    </tr>\n",
       "    <tr>\n",
       "      <th>98%</th>\n",
       "      <td>6.486700e+02</td>\n",
       "      <td>6.480000e+02</td>\n",
       "    </tr>\n",
       "    <tr>\n",
       "      <th>99%</th>\n",
       "      <td>6.505400e+02</td>\n",
       "      <td>6.549800e+02</td>\n",
       "    </tr>\n",
       "    <tr>\n",
       "      <th>max</th>\n",
       "      <td>6.507700e+02</td>\n",
       "      <td>6.360600e+04</td>\n",
       "    </tr>\n",
       "  </tbody>\n",
       "</table>\n",
       "</div>"
      ],
      "text/plain": [
       "                buy          sell\n",
       "count  3.907927e+07  4.166221e+07\n",
       "mean   6.392214e+02  6.303454e+02\n",
       "std    9.720250e+00  4.972581e+01\n",
       "min    3.560000e+02  6.183300e+02\n",
       "1%     6.144200e+02  6.193200e+02\n",
       "2%     6.172000e+02  6.193900e+02\n",
       "10%    6.275000e+02  6.206400e+02\n",
       "25%    6.370900e+02  6.239200e+02\n",
       "50%    6.410000e+02  6.292400e+02\n",
       "75%    6.447600e+02  6.346300e+02\n",
       "90%    6.470000e+02  6.401100e+02\n",
       "98%    6.486700e+02  6.480000e+02\n",
       "99%    6.505400e+02  6.549800e+02\n",
       "max    6.507700e+02  6.360600e+04"
      ]
     },
     "execution_count": 19,
     "metadata": {},
     "output_type": "execute_result"
    }
   ],
   "source": [
    "percentiles = [.01, .02, .1, .25, .75, .9, .98, .99]\n",
    "pd.concat([buy.price.describe(percentiles=percentiles).to_frame('buy'),\n",
    "           sell.price.describe(percentiles=percentiles).to_frame('sell')], axis=1)"
   ]
  },
  {
   "cell_type": "code",
   "execution_count": 20,
   "metadata": {
    "ExecuteTime": {
     "end_time": "2020-06-13T21:30:50.070127Z",
     "start_time": "2020-06-13T21:30:47.364915Z"
    }
   },
   "outputs": [],
   "source": [
    "buy = buy[buy.price > buy.price.quantile(.01)]\n",
    "sell = sell[sell.price < sell.price.quantile(.99)]"
   ]
  },
  {
   "cell_type": "code",
   "execution_count": 21,
   "metadata": {},
   "outputs": [
    {
     "name": "stdout",
     "output_type": "stream",
     "text": [
      "                             timestamp   price  shares\n",
      "14       2020-01-30 04:00:00.182504155  634.12     200\n",
      "19       2020-01-30 04:00:00.182649560  640.20     200\n",
      "20       2020-01-30 04:00:00.182649560  634.12     200\n",
      "25       2020-01-30 04:00:00.368661156  640.20     200\n",
      "26       2020-01-30 04:00:00.368661156  638.10     200\n",
      "...                                ...     ...     ...\n",
      "39079668 2020-01-30 16:00:01.625226827  621.89      20\n",
      "39079669 2020-01-30 16:00:01.625226827  621.68     140\n",
      "39079670 2020-01-30 16:00:01.625226827  621.46       4\n",
      "39079671 2020-01-30 16:00:01.625226827  621.15      20\n",
      "39079672 2020-01-30 16:00:01.625226827  621.05      20\n",
      "\n",
      "[38688316 rows x 3 columns]\n"
     ]
    }
   ],
   "source": [
    "print(buy)\n"
   ]
  },
  {
   "cell_type": "markdown",
   "metadata": {},
   "source": [
    "### Buy-Sell Order Distribution"
   ]
  },
  {
   "cell_type": "markdown",
   "metadata": {},
   "source": [
    "The number of orders at different price levels, highlighted in the following screenshot using different intensities for buy and sell orders, visualizes the depth of liquidity at any given point in time."
   ]
  },
  {
   "cell_type": "markdown",
   "metadata": {},
   "source": [
    "The distribution of limit order prices was weighted toward buy orders at higher prices."
   ]
  },
  {
   "cell_type": "code",
   "execution_count": 22,
   "metadata": {
    "ExecuteTime": {
     "end_time": "2020-06-13T21:30:50.072644Z",
     "start_time": "2020-06-13T21:30:50.071052Z"
    }
   },
   "outputs": [],
   "source": [
    "market_open='0930'\n",
    "market_close = '1600'"
   ]
  },
  {
   "cell_type": "code",
   "execution_count": 25,
   "metadata": {
    "ExecuteTime": {
     "end_time": "2020-06-13T22:52:32.274037Z",
     "start_time": "2020-06-13T22:52:24.614895Z"
    }
   },
   "outputs": [
    {
     "ename": "KeyError",
     "evalue": "'edges'",
     "output_type": "error",
     "traceback": [
      "\u001b[0;31m---------------------------------------------------------------------------\u001b[0m",
      "\u001b[0;31mKeyError\u001b[0m                                  Traceback (most recent call last)",
      "File \u001b[0;32m~/miniforge3/envs/02_ml4t/lib/python3.9/site-packages/cudf/pandas/fast_slow_proxy.py:897\u001b[0m, in \u001b[0;36m_fast_slow_function_call\u001b[0;34m(func, *args, **kwargs)\u001b[0m\n\u001b[1;32m    896\u001b[0m fast_args, fast_kwargs \u001b[38;5;241m=\u001b[39m _fast_arg(args), _fast_arg(kwargs)\n\u001b[0;32m--> 897\u001b[0m result \u001b[38;5;241m=\u001b[39m \u001b[43mfunc\u001b[49m\u001b[43m(\u001b[49m\u001b[38;5;241;43m*\u001b[39;49m\u001b[43mfast_args\u001b[49m\u001b[43m,\u001b[49m\u001b[43m \u001b[49m\u001b[38;5;241;43m*\u001b[39;49m\u001b[38;5;241;43m*\u001b[39;49m\u001b[43mfast_kwargs\u001b[49m\u001b[43m)\u001b[49m\n\u001b[1;32m    898\u001b[0m \u001b[38;5;28;01mif\u001b[39;00m result \u001b[38;5;129;01mis\u001b[39;00m \u001b[38;5;28mNotImplemented\u001b[39m:\n\u001b[1;32m    899\u001b[0m     \u001b[38;5;66;03m# try slow path\u001b[39;00m\n",
      "File \u001b[0;32m~/miniforge3/envs/02_ml4t/lib/python3.9/site-packages/cudf/pandas/fast_slow_proxy.py:25\u001b[0m, in \u001b[0;36mcall_operator\u001b[0;34m(fn, args, kwargs)\u001b[0m\n\u001b[1;32m     24\u001b[0m \u001b[38;5;28;01mdef\u001b[39;00m \u001b[38;5;21mcall_operator\u001b[39m(fn, args, kwargs):\n\u001b[0;32m---> 25\u001b[0m     \u001b[38;5;28;01mreturn\u001b[39;00m \u001b[43mfn\u001b[49m\u001b[43m(\u001b[49m\u001b[38;5;241;43m*\u001b[39;49m\u001b[43margs\u001b[49m\u001b[43m,\u001b[49m\u001b[43m \u001b[49m\u001b[38;5;241;43m*\u001b[39;49m\u001b[38;5;241;43m*\u001b[39;49m\u001b[43mkwargs\u001b[49m\u001b[43m)\u001b[49m\n",
      "File \u001b[0;32m~/miniforge3/envs/02_ml4t/lib/python3.9/site-packages/cudf/utils/performance_tracking.py:51\u001b[0m, in \u001b[0;36m_performance_tracking.<locals>.wrapper\u001b[0;34m(*args, **kwargs)\u001b[0m\n\u001b[1;32m     44\u001b[0m     stack\u001b[38;5;241m.\u001b[39menter_context(\n\u001b[1;32m     45\u001b[0m         nvtx\u001b[38;5;241m.\u001b[39mannotate(\n\u001b[1;32m     46\u001b[0m             message\u001b[38;5;241m=\u001b[39mfunc\u001b[38;5;241m.\u001b[39m\u001b[38;5;18m__qualname__\u001b[39m,\n\u001b[0;32m   (...)\u001b[0m\n\u001b[1;32m     49\u001b[0m         )\n\u001b[1;32m     50\u001b[0m     )\n\u001b[0;32m---> 51\u001b[0m \u001b[38;5;28;01mreturn\u001b[39;00m \u001b[43mfunc\u001b[49m\u001b[43m(\u001b[49m\u001b[38;5;241;43m*\u001b[39;49m\u001b[43margs\u001b[49m\u001b[43m,\u001b[49m\u001b[43m \u001b[49m\u001b[38;5;241;43m*\u001b[39;49m\u001b[38;5;241;43m*\u001b[39;49m\u001b[43mkwargs\u001b[49m\u001b[43m)\u001b[49m\n",
      "File \u001b[0;32m~/miniforge3/envs/02_ml4t/lib/python3.9/site-packages/cudf/core/dataframe.py:1342\u001b[0m, in \u001b[0;36mDataFrame.__getitem__\u001b[0;34m(self, arg)\u001b[0m\n\u001b[1;32m   1341\u001b[0m \u001b[38;5;28;01mif\u001b[39;00m _is_scalar_or_zero_d_array(arg) \u001b[38;5;129;01mor\u001b[39;00m \u001b[38;5;28misinstance\u001b[39m(arg, \u001b[38;5;28mtuple\u001b[39m):\n\u001b[0;32m-> 1342\u001b[0m     out \u001b[38;5;241m=\u001b[39m \u001b[38;5;28;43mself\u001b[39;49m\u001b[38;5;241;43m.\u001b[39;49m\u001b[43m_get_columns_by_label\u001b[49m\u001b[43m(\u001b[49m\u001b[43marg\u001b[49m\u001b[43m)\u001b[49m\n\u001b[1;32m   1343\u001b[0m     \u001b[38;5;28;01mif\u001b[39;00m is_scalar(arg):\n",
      "File \u001b[0;32m~/miniforge3/envs/02_ml4t/lib/python3.9/site-packages/cudf/utils/performance_tracking.py:51\u001b[0m, in \u001b[0;36m_performance_tracking.<locals>.wrapper\u001b[0;34m(*args, **kwargs)\u001b[0m\n\u001b[1;32m     44\u001b[0m     stack\u001b[38;5;241m.\u001b[39menter_context(\n\u001b[1;32m     45\u001b[0m         nvtx\u001b[38;5;241m.\u001b[39mannotate(\n\u001b[1;32m     46\u001b[0m             message\u001b[38;5;241m=\u001b[39mfunc\u001b[38;5;241m.\u001b[39m\u001b[38;5;18m__qualname__\u001b[39m,\n\u001b[0;32m   (...)\u001b[0m\n\u001b[1;32m     49\u001b[0m         )\n\u001b[1;32m     50\u001b[0m     )\n\u001b[0;32m---> 51\u001b[0m \u001b[38;5;28;01mreturn\u001b[39;00m \u001b[43mfunc\u001b[49m\u001b[43m(\u001b[49m\u001b[38;5;241;43m*\u001b[39;49m\u001b[43margs\u001b[49m\u001b[43m,\u001b[49m\u001b[43m \u001b[49m\u001b[38;5;241;43m*\u001b[39;49m\u001b[38;5;241;43m*\u001b[39;49m\u001b[43mkwargs\u001b[49m\u001b[43m)\u001b[49m\n",
      "File \u001b[0;32m~/miniforge3/envs/02_ml4t/lib/python3.9/site-packages/cudf/core/frame.py:357\u001b[0m, in \u001b[0;36mFrame._get_columns_by_label\u001b[0;34m(self, labels)\u001b[0m\n\u001b[1;32m    352\u001b[0m \u001b[38;5;250m\u001b[39m\u001b[38;5;124;03m\"\"\"\u001b[39;00m\n\u001b[1;32m    353\u001b[0m \u001b[38;5;124;03mReturns columns of the Frame specified by `labels`.\u001b[39;00m\n\u001b[1;32m    354\u001b[0m \n\u001b[1;32m    355\u001b[0m \u001b[38;5;124;03mAkin to cudf.DataFrame(...).loc[:, labels]\u001b[39;00m\n\u001b[1;32m    356\u001b[0m \u001b[38;5;124;03m\"\"\"\u001b[39;00m\n\u001b[0;32m--> 357\u001b[0m \u001b[38;5;28;01mreturn\u001b[39;00m \u001b[38;5;28mself\u001b[39m\u001b[38;5;241m.\u001b[39m_from_data_like_self(\u001b[38;5;28;43mself\u001b[39;49m\u001b[38;5;241;43m.\u001b[39;49m\u001b[43m_data\u001b[49m\u001b[38;5;241;43m.\u001b[39;49m\u001b[43mselect_by_label\u001b[49m\u001b[43m(\u001b[49m\u001b[43mlabels\u001b[49m\u001b[43m)\u001b[49m)\n",
      "File \u001b[0;32m~/miniforge3/envs/02_ml4t/lib/python3.9/site-packages/cudf/core/column_accessor.py:394\u001b[0m, in \u001b[0;36mColumnAccessor.select_by_label\u001b[0;34m(self, key)\u001b[0m\n\u001b[1;32m    393\u001b[0m         \u001b[38;5;28;01mreturn\u001b[39;00m \u001b[38;5;28mself\u001b[39m\u001b[38;5;241m.\u001b[39m_select_by_label_with_wildcard(key)\n\u001b[0;32m--> 394\u001b[0m \u001b[38;5;28;01mreturn\u001b[39;00m \u001b[38;5;28;43mself\u001b[39;49m\u001b[38;5;241;43m.\u001b[39;49m\u001b[43m_select_by_label_grouped\u001b[49m\u001b[43m(\u001b[49m\u001b[43mkey\u001b[49m\u001b[43m)\u001b[49m\n",
      "File \u001b[0;32m~/miniforge3/envs/02_ml4t/lib/python3.9/site-packages/cudf/core/column_accessor.py:542\u001b[0m, in \u001b[0;36mColumnAccessor._select_by_label_grouped\u001b[0;34m(self, key)\u001b[0m\n\u001b[1;32m    541\u001b[0m \u001b[38;5;28;01mdef\u001b[39;00m \u001b[38;5;21m_select_by_label_grouped\u001b[39m(\u001b[38;5;28mself\u001b[39m, key: Any) \u001b[38;5;241m-\u001b[39m\u001b[38;5;241m>\u001b[39m ColumnAccessor:\n\u001b[0;32m--> 542\u001b[0m     result \u001b[38;5;241m=\u001b[39m \u001b[38;5;28;43mself\u001b[39;49m\u001b[38;5;241;43m.\u001b[39;49m\u001b[43m_grouped_data\u001b[49m\u001b[43m[\u001b[49m\u001b[43mkey\u001b[49m\u001b[43m]\u001b[49m\n\u001b[1;32m    543\u001b[0m     \u001b[38;5;28;01mif\u001b[39;00m \u001b[38;5;28misinstance\u001b[39m(result, column\u001b[38;5;241m.\u001b[39mColumnBase):\n\u001b[1;32m    544\u001b[0m         \u001b[38;5;66;03m# self._grouped_data[key] = self._data[key] so skip validation\u001b[39;00m\n",
      "\u001b[0;31mKeyError\u001b[0m: 'edges'",
      "\nDuring handling of the above exception, another exception occurred:\n",
      "\u001b[0;31mKeyError\u001b[0m                                  Traceback (most recent call last)",
      "File \u001b[0;32m~/miniforge3/envs/02_ml4t/lib/python3.9/site-packages/pandas/core/indexes/base.py:3805\u001b[0m, in \u001b[0;36mIndex.get_loc\u001b[0;34m(self, key)\u001b[0m\n\u001b[1;32m   3804\u001b[0m \u001b[38;5;28;01mtry\u001b[39;00m:\n\u001b[0;32m-> 3805\u001b[0m     \u001b[38;5;28;01mreturn\u001b[39;00m \u001b[38;5;28;43mself\u001b[39;49m\u001b[38;5;241;43m.\u001b[39;49m\u001b[43m_engine\u001b[49m\u001b[38;5;241;43m.\u001b[39;49m\u001b[43mget_loc\u001b[49m\u001b[43m(\u001b[49m\u001b[43mcasted_key\u001b[49m\u001b[43m)\u001b[49m\n\u001b[1;32m   3806\u001b[0m \u001b[38;5;28;01mexcept\u001b[39;00m \u001b[38;5;167;01mKeyError\u001b[39;00m \u001b[38;5;28;01mas\u001b[39;00m err:\n",
      "File \u001b[0;32mindex.pyx:167\u001b[0m, in \u001b[0;36mpandas._libs.index.IndexEngine.get_loc\u001b[0;34m()\u001b[0m\n",
      "File \u001b[0;32mindex.pyx:196\u001b[0m, in \u001b[0;36mpandas._libs.index.IndexEngine.get_loc\u001b[0;34m()\u001b[0m\n",
      "File \u001b[0;32mpandas/_libs/hashtable_class_helper.pxi:7081\u001b[0m, in \u001b[0;36mpandas._libs.hashtable.PyObjectHashTable.get_item\u001b[0;34m()\u001b[0m\n",
      "File \u001b[0;32mpandas/_libs/hashtable_class_helper.pxi:7089\u001b[0m, in \u001b[0;36mpandas._libs.hashtable.PyObjectHashTable.get_item\u001b[0;34m()\u001b[0m\n",
      "\u001b[0;31mKeyError\u001b[0m: 'edges'",
      "\nThe above exception was the direct cause of the following exception:\n",
      "\u001b[0;31mKeyError\u001b[0m                                  Traceback (most recent call last)",
      "Cell \u001b[0;32mIn[25], line 26\u001b[0m\n\u001b[1;32m     23\u001b[0m hist_kws \u001b[38;5;241m=\u001b[39m {\u001b[38;5;124m'\u001b[39m\u001b[38;5;124mlinewidth\u001b[39m\u001b[38;5;124m'\u001b[39m: \u001b[38;5;241m1\u001b[39m, \u001b[38;5;124m'\u001b[39m\u001b[38;5;124malpha\u001b[39m\u001b[38;5;124m'\u001b[39m: \u001b[38;5;241m.5\u001b[39m}\n\u001b[1;32m     25\u001b[0m \u001b[38;5;66;03m# Plot the histograms and store the return values to use for the legend\u001b[39;00m\n\u001b[0;32m---> 26\u001b[0m buy_hist \u001b[38;5;241m=\u001b[39m \u001b[43msns\u001b[49m\u001b[38;5;241;43m.\u001b[39;49m\u001b[43mhistplot\u001b[49m\u001b[43m(\u001b[49m\u001b[43mbuy\u001b[49m\u001b[43m[\u001b[49m\u001b[43mbuy\u001b[49m\u001b[38;5;241;43m.\u001b[39;49m\u001b[43mprice\u001b[49m\u001b[38;5;241;43m.\u001b[39;49m\u001b[43mbetween\u001b[49m\u001b[43m(\u001b[49m\u001b[38;5;241;43m630\u001b[39;49m\u001b[43m,\u001b[49m\u001b[43m \u001b[49m\u001b[38;5;241;43m640\u001b[39;49m\u001b[43m)\u001b[49m\u001b[43m]\u001b[49m\n\u001b[1;32m     27\u001b[0m \u001b[43m                        \u001b[49m\u001b[38;5;241;43m.\u001b[39;49m\u001b[43mset_index\u001b[49m\u001b[43m(\u001b[49m\u001b[38;5;124;43m'\u001b[39;49m\u001b[38;5;124;43mtimestamp\u001b[39;49m\u001b[38;5;124;43m'\u001b[39;49m\u001b[43m)\u001b[49m\n\u001b[1;32m     28\u001b[0m \u001b[43m                        \u001b[49m\u001b[38;5;241;43m.\u001b[39;49m\u001b[43mbetween_time\u001b[49m\u001b[43m(\u001b[49m\u001b[43mmarket_open\u001b[49m\u001b[43m,\u001b[49m\u001b[43m \u001b[49m\u001b[43mmarket_close\u001b[49m\u001b[43m)\u001b[49m\u001b[38;5;241;43m.\u001b[39;49m\u001b[43mprice\u001b[49m\u001b[43m,\u001b[49m\u001b[43m \u001b[49m\n\u001b[1;32m     29\u001b[0m \u001b[43m                        \u001b[49m\u001b[43max\u001b[49m\u001b[38;5;241;43m=\u001b[39;49m\u001b[43max\u001b[49m\u001b[43m,\u001b[49m\u001b[43m \u001b[49m\u001b[43mlabel\u001b[49m\u001b[38;5;241;43m=\u001b[39;49m\u001b[38;5;124;43m'\u001b[39;49m\u001b[38;5;124;43mBuy\u001b[39;49m\u001b[38;5;124;43m'\u001b[39;49m\u001b[43m,\u001b[49m\u001b[43m \u001b[49m\u001b[43mbins\u001b[49m\u001b[38;5;241;43m=\u001b[39;49m\u001b[38;5;241;43m30\u001b[39;49m\u001b[43m,\u001b[49m\u001b[43m \u001b[49m\u001b[43mkde\u001b[49m\u001b[38;5;241;43m=\u001b[39;49m\u001b[38;5;28;43;01mFalse\u001b[39;49;00m\u001b[43m,\u001b[49m\u001b[43m \u001b[49m\n\u001b[1;32m     30\u001b[0m \u001b[43m                        \u001b[49m\u001b[43mlinewidth\u001b[49m\u001b[38;5;241;43m=\u001b[39;49m\u001b[43mhist_kws\u001b[49m\u001b[43m[\u001b[49m\u001b[38;5;124;43m'\u001b[39;49m\u001b[38;5;124;43mlinewidth\u001b[39;49m\u001b[38;5;124;43m'\u001b[39;49m\u001b[43m]\u001b[49m\u001b[43m,\u001b[49m\u001b[43m \u001b[49m\u001b[43malpha\u001b[49m\u001b[38;5;241;43m=\u001b[39;49m\u001b[43mhist_kws\u001b[49m\u001b[43m[\u001b[49m\u001b[38;5;124;43m'\u001b[39;49m\u001b[38;5;124;43malpha\u001b[39;49m\u001b[38;5;124;43m'\u001b[39;49m\u001b[43m]\u001b[49m\u001b[43m,\u001b[49m\u001b[43m \u001b[49m\u001b[43mcolor\u001b[49m\u001b[38;5;241;43m=\u001b[39;49m\u001b[38;5;124;43m'\u001b[39;49m\u001b[38;5;124;43mblue\u001b[39;49m\u001b[38;5;124;43m'\u001b[39;49m\u001b[43m)\u001b[49m\n\u001b[1;32m     32\u001b[0m sell_hist \u001b[38;5;241m=\u001b[39m sns\u001b[38;5;241m.\u001b[39mhistplot(sell[sell\u001b[38;5;241m.\u001b[39mprice\u001b[38;5;241m.\u001b[39mbetween(\u001b[38;5;241m630\u001b[39m, \u001b[38;5;241m640\u001b[39m)]\n\u001b[1;32m     33\u001b[0m                          \u001b[38;5;241m.\u001b[39mset_index(\u001b[38;5;124m'\u001b[39m\u001b[38;5;124mtimestamp\u001b[39m\u001b[38;5;124m'\u001b[39m)\n\u001b[1;32m     34\u001b[0m                          \u001b[38;5;241m.\u001b[39mbetween_time(market_open, market_close)\u001b[38;5;241m.\u001b[39mprice, \n\u001b[1;32m     35\u001b[0m                          ax\u001b[38;5;241m=\u001b[39max, label\u001b[38;5;241m=\u001b[39m\u001b[38;5;124m'\u001b[39m\u001b[38;5;124mSell\u001b[39m\u001b[38;5;124m'\u001b[39m, bins\u001b[38;5;241m=\u001b[39m\u001b[38;5;241m30\u001b[39m, kde\u001b[38;5;241m=\u001b[39m\u001b[38;5;28;01mFalse\u001b[39;00m, \n\u001b[1;32m     36\u001b[0m                          linewidth\u001b[38;5;241m=\u001b[39mhist_kws[\u001b[38;5;124m'\u001b[39m\u001b[38;5;124mlinewidth\u001b[39m\u001b[38;5;124m'\u001b[39m], alpha\u001b[38;5;241m=\u001b[39mhist_kws[\u001b[38;5;124m'\u001b[39m\u001b[38;5;124malpha\u001b[39m\u001b[38;5;124m'\u001b[39m], color\u001b[38;5;241m=\u001b[39m\u001b[38;5;124m'\u001b[39m\u001b[38;5;124morange\u001b[39m\u001b[38;5;124m'\u001b[39m)\n\u001b[1;32m     38\u001b[0m \u001b[38;5;66;03m# Manually create the legend using the labels for the plotted data\u001b[39;00m\n",
      "File \u001b[0;32m~/miniforge3/envs/02_ml4t/lib/python3.9/site-packages/seaborn/distributions.py:1416\u001b[0m, in \u001b[0;36mhistplot\u001b[0;34m(data, x, y, hue, weights, stat, bins, binwidth, binrange, discrete, cumulative, common_bins, common_norm, multiple, element, fill, shrink, kde, kde_kws, line_kws, thresh, pthresh, pmax, cbar, cbar_ax, cbar_kws, palette, hue_order, hue_norm, color, log_scale, legend, ax, **kwargs)\u001b[0m\n\u001b[1;32m   1405\u001b[0m estimate_kws \u001b[38;5;241m=\u001b[39m \u001b[38;5;28mdict\u001b[39m(\n\u001b[1;32m   1406\u001b[0m     stat\u001b[38;5;241m=\u001b[39mstat,\n\u001b[1;32m   1407\u001b[0m     bins\u001b[38;5;241m=\u001b[39mbins,\n\u001b[0;32m   (...)\u001b[0m\n\u001b[1;32m   1411\u001b[0m     cumulative\u001b[38;5;241m=\u001b[39mcumulative,\n\u001b[1;32m   1412\u001b[0m )\n\u001b[1;32m   1414\u001b[0m \u001b[38;5;28;01mif\u001b[39;00m p\u001b[38;5;241m.\u001b[39munivariate:\n\u001b[0;32m-> 1416\u001b[0m     \u001b[43mp\u001b[49m\u001b[38;5;241;43m.\u001b[39;49m\u001b[43mplot_univariate_histogram\u001b[49m\u001b[43m(\u001b[49m\n\u001b[1;32m   1417\u001b[0m \u001b[43m        \u001b[49m\u001b[43mmultiple\u001b[49m\u001b[38;5;241;43m=\u001b[39;49m\u001b[43mmultiple\u001b[49m\u001b[43m,\u001b[49m\n\u001b[1;32m   1418\u001b[0m \u001b[43m        \u001b[49m\u001b[43melement\u001b[49m\u001b[38;5;241;43m=\u001b[39;49m\u001b[43melement\u001b[49m\u001b[43m,\u001b[49m\n\u001b[1;32m   1419\u001b[0m \u001b[43m        \u001b[49m\u001b[43mfill\u001b[49m\u001b[38;5;241;43m=\u001b[39;49m\u001b[43mfill\u001b[49m\u001b[43m,\u001b[49m\n\u001b[1;32m   1420\u001b[0m \u001b[43m        \u001b[49m\u001b[43mshrink\u001b[49m\u001b[38;5;241;43m=\u001b[39;49m\u001b[43mshrink\u001b[49m\u001b[43m,\u001b[49m\n\u001b[1;32m   1421\u001b[0m \u001b[43m        \u001b[49m\u001b[43mcommon_norm\u001b[49m\u001b[38;5;241;43m=\u001b[39;49m\u001b[43mcommon_norm\u001b[49m\u001b[43m,\u001b[49m\n\u001b[1;32m   1422\u001b[0m \u001b[43m        \u001b[49m\u001b[43mcommon_bins\u001b[49m\u001b[38;5;241;43m=\u001b[39;49m\u001b[43mcommon_bins\u001b[49m\u001b[43m,\u001b[49m\n\u001b[1;32m   1423\u001b[0m \u001b[43m        \u001b[49m\u001b[43mkde\u001b[49m\u001b[38;5;241;43m=\u001b[39;49m\u001b[43mkde\u001b[49m\u001b[43m,\u001b[49m\n\u001b[1;32m   1424\u001b[0m \u001b[43m        \u001b[49m\u001b[43mkde_kws\u001b[49m\u001b[38;5;241;43m=\u001b[39;49m\u001b[43mkde_kws\u001b[49m\u001b[43m,\u001b[49m\n\u001b[1;32m   1425\u001b[0m \u001b[43m        \u001b[49m\u001b[43mcolor\u001b[49m\u001b[38;5;241;43m=\u001b[39;49m\u001b[43mcolor\u001b[49m\u001b[43m,\u001b[49m\n\u001b[1;32m   1426\u001b[0m \u001b[43m        \u001b[49m\u001b[43mlegend\u001b[49m\u001b[38;5;241;43m=\u001b[39;49m\u001b[43mlegend\u001b[49m\u001b[43m,\u001b[49m\n\u001b[1;32m   1427\u001b[0m \u001b[43m        \u001b[49m\u001b[43mestimate_kws\u001b[49m\u001b[38;5;241;43m=\u001b[39;49m\u001b[43mestimate_kws\u001b[49m\u001b[43m,\u001b[49m\n\u001b[1;32m   1428\u001b[0m \u001b[43m        \u001b[49m\u001b[43mline_kws\u001b[49m\u001b[38;5;241;43m=\u001b[39;49m\u001b[43mline_kws\u001b[49m\u001b[43m,\u001b[49m\n\u001b[1;32m   1429\u001b[0m \u001b[43m        \u001b[49m\u001b[38;5;241;43m*\u001b[39;49m\u001b[38;5;241;43m*\u001b[39;49m\u001b[43mkwargs\u001b[49m\u001b[43m,\u001b[49m\n\u001b[1;32m   1430\u001b[0m \u001b[43m    \u001b[49m\u001b[43m)\u001b[49m\n\u001b[1;32m   1432\u001b[0m \u001b[38;5;28;01melse\u001b[39;00m:\n\u001b[1;32m   1434\u001b[0m     p\u001b[38;5;241m.\u001b[39mplot_bivariate_histogram(\n\u001b[1;32m   1435\u001b[0m         common_bins\u001b[38;5;241m=\u001b[39mcommon_bins,\n\u001b[1;32m   1436\u001b[0m         common_norm\u001b[38;5;241m=\u001b[39mcommon_norm,\n\u001b[0;32m   (...)\u001b[0m\n\u001b[1;32m   1446\u001b[0m         \u001b[38;5;241m*\u001b[39m\u001b[38;5;241m*\u001b[39mkwargs,\n\u001b[1;32m   1447\u001b[0m     )\n",
      "File \u001b[0;32m~/miniforge3/envs/02_ml4t/lib/python3.9/site-packages/seaborn/distributions.py:572\u001b[0m, in \u001b[0;36m_DistributionPlotter.plot_univariate_histogram\u001b[0;34m(self, multiple, element, fill, common_norm, common_bins, shrink, kde, kde_kws, color, legend, line_kws, estimate_kws, **plot_kws)\u001b[0m\n\u001b[1;32m    566\u001b[0m \u001b[38;5;28;01mif\u001b[39;00m element \u001b[38;5;241m==\u001b[39m \u001b[38;5;124m\"\u001b[39m\u001b[38;5;124mbars\u001b[39m\u001b[38;5;124m\"\u001b[39m:\n\u001b[1;32m    567\u001b[0m \n\u001b[1;32m    568\u001b[0m     \u001b[38;5;66;03m# Use matplotlib bar plotting\u001b[39;00m\n\u001b[1;32m    570\u001b[0m     plot_func \u001b[38;5;241m=\u001b[39m ax\u001b[38;5;241m.\u001b[39mbar \u001b[38;5;28;01mif\u001b[39;00m \u001b[38;5;28mself\u001b[39m\u001b[38;5;241m.\u001b[39mdata_variable \u001b[38;5;241m==\u001b[39m \u001b[38;5;124m\"\u001b[39m\u001b[38;5;124mx\u001b[39m\u001b[38;5;124m\"\u001b[39m \u001b[38;5;28;01melse\u001b[39;00m ax\u001b[38;5;241m.\u001b[39mbarh\n\u001b[1;32m    571\u001b[0m     artists \u001b[38;5;241m=\u001b[39m plot_func(\n\u001b[0;32m--> 572\u001b[0m         \u001b[43mhist\u001b[49m\u001b[43m[\u001b[49m\u001b[38;5;124;43m\"\u001b[39;49m\u001b[38;5;124;43medges\u001b[39;49m\u001b[38;5;124;43m\"\u001b[39;49m\u001b[43m]\u001b[49m,\n\u001b[1;32m    573\u001b[0m         hist[\u001b[38;5;124m\"\u001b[39m\u001b[38;5;124mheights\u001b[39m\u001b[38;5;124m\"\u001b[39m] \u001b[38;5;241m-\u001b[39m bottom,\n\u001b[1;32m    574\u001b[0m         hist[\u001b[38;5;124m\"\u001b[39m\u001b[38;5;124mwidths\u001b[39m\u001b[38;5;124m\"\u001b[39m],\n\u001b[1;32m    575\u001b[0m         bottom,\n\u001b[1;32m    576\u001b[0m         align\u001b[38;5;241m=\u001b[39m\u001b[38;5;124m\"\u001b[39m\u001b[38;5;124medge\u001b[39m\u001b[38;5;124m\"\u001b[39m,\n\u001b[1;32m    577\u001b[0m         \u001b[38;5;241m*\u001b[39m\u001b[38;5;241m*\u001b[39martist_kws,\n\u001b[1;32m    578\u001b[0m     )\n\u001b[1;32m    580\u001b[0m     \u001b[38;5;28;01mfor\u001b[39;00m bar \u001b[38;5;129;01min\u001b[39;00m artists:\n\u001b[1;32m    581\u001b[0m         \u001b[38;5;28;01mif\u001b[39;00m \u001b[38;5;28mself\u001b[39m\u001b[38;5;241m.\u001b[39mdata_variable \u001b[38;5;241m==\u001b[39m \u001b[38;5;124m\"\u001b[39m\u001b[38;5;124mx\u001b[39m\u001b[38;5;124m\"\u001b[39m:\n",
      "File \u001b[0;32m~/miniforge3/envs/02_ml4t/lib/python3.9/site-packages/cudf/pandas/fast_slow_proxy.py:686\u001b[0m, in \u001b[0;36m_CallableProxyMixin.__call__\u001b[0;34m(self, *args, **kwargs)\u001b[0m\n\u001b[1;32m    685\u001b[0m \u001b[38;5;28;01mdef\u001b[39;00m \u001b[38;5;21m__call__\u001b[39m(\u001b[38;5;28mself\u001b[39m, \u001b[38;5;241m*\u001b[39margs, \u001b[38;5;241m*\u001b[39m\u001b[38;5;241m*\u001b[39mkwargs) \u001b[38;5;241m-\u001b[39m\u001b[38;5;241m>\u001b[39m Any:\n\u001b[0;32m--> 686\u001b[0m     result, _ \u001b[38;5;241m=\u001b[39m \u001b[43m_fast_slow_function_call\u001b[49m\u001b[43m(\u001b[49m\n\u001b[1;32m    687\u001b[0m \u001b[43m        \u001b[49m\u001b[38;5;66;43;03m# We cannot directly call self here because we need it to be\u001b[39;49;00m\n\u001b[1;32m    688\u001b[0m \u001b[43m        \u001b[49m\u001b[38;5;66;43;03m# converted into either the fast or slow object (by\u001b[39;49;00m\n\u001b[1;32m    689\u001b[0m \u001b[43m        \u001b[49m\u001b[38;5;66;43;03m# _fast_slow_function_call) to avoid infinite recursion.\u001b[39;49;00m\n\u001b[1;32m    690\u001b[0m \u001b[43m        \u001b[49m\u001b[38;5;66;43;03m# TODO: When Python 3.11 is the minimum supported Python version\u001b[39;49;00m\n\u001b[1;32m    691\u001b[0m \u001b[43m        \u001b[49m\u001b[38;5;66;43;03m# this can use operator.call\u001b[39;49;00m\n\u001b[1;32m    692\u001b[0m \u001b[43m        \u001b[49m\u001b[43mcall_operator\u001b[49m\u001b[43m,\u001b[49m\n\u001b[1;32m    693\u001b[0m \u001b[43m        \u001b[49m\u001b[38;5;28;43mself\u001b[39;49m\u001b[43m,\u001b[49m\n\u001b[1;32m    694\u001b[0m \u001b[43m        \u001b[49m\u001b[43margs\u001b[49m\u001b[43m,\u001b[49m\n\u001b[1;32m    695\u001b[0m \u001b[43m        \u001b[49m\u001b[43mkwargs\u001b[49m\u001b[43m,\u001b[49m\n\u001b[1;32m    696\u001b[0m \u001b[43m    \u001b[49m\u001b[43m)\u001b[49m\n\u001b[1;32m    697\u001b[0m     \u001b[38;5;28;01mreturn\u001b[39;00m result\n",
      "File \u001b[0;32m~/miniforge3/envs/02_ml4t/lib/python3.9/site-packages/cudf/pandas/fast_slow_proxy.py:941\u001b[0m, in \u001b[0;36m_fast_slow_function_call\u001b[0;34m(func, *args, **kwargs)\u001b[0m\n\u001b[1;32m    939\u001b[0m         slow_args, slow_kwargs \u001b[38;5;241m=\u001b[39m _slow_arg(args), _slow_arg(kwargs)\n\u001b[1;32m    940\u001b[0m         \u001b[38;5;28;01mwith\u001b[39;00m disable_module_accelerator():\n\u001b[0;32m--> 941\u001b[0m             result \u001b[38;5;241m=\u001b[39m \u001b[43mfunc\u001b[49m\u001b[43m(\u001b[49m\u001b[38;5;241;43m*\u001b[39;49m\u001b[43mslow_args\u001b[49m\u001b[43m,\u001b[49m\u001b[43m \u001b[49m\u001b[38;5;241;43m*\u001b[39;49m\u001b[38;5;241;43m*\u001b[39;49m\u001b[43mslow_kwargs\u001b[49m\u001b[43m)\u001b[49m\n\u001b[1;32m    942\u001b[0m \u001b[38;5;28;01mreturn\u001b[39;00m _maybe_wrap_result(result, func, \u001b[38;5;241m*\u001b[39margs, \u001b[38;5;241m*\u001b[39m\u001b[38;5;241m*\u001b[39mkwargs), fast\n",
      "File \u001b[0;32m~/miniforge3/envs/02_ml4t/lib/python3.9/site-packages/cudf/pandas/fast_slow_proxy.py:25\u001b[0m, in \u001b[0;36mcall_operator\u001b[0;34m(fn, args, kwargs)\u001b[0m\n\u001b[1;32m     24\u001b[0m \u001b[38;5;28;01mdef\u001b[39;00m \u001b[38;5;21mcall_operator\u001b[39m(fn, args, kwargs):\n\u001b[0;32m---> 25\u001b[0m     \u001b[38;5;28;01mreturn\u001b[39;00m \u001b[43mfn\u001b[49m\u001b[43m(\u001b[49m\u001b[38;5;241;43m*\u001b[39;49m\u001b[43margs\u001b[49m\u001b[43m,\u001b[49m\u001b[43m \u001b[49m\u001b[38;5;241;43m*\u001b[39;49m\u001b[38;5;241;43m*\u001b[39;49m\u001b[43mkwargs\u001b[49m\u001b[43m)\u001b[49m\n",
      "File \u001b[0;32m~/miniforge3/envs/02_ml4t/lib/python3.9/site-packages/pandas/core/frame.py:4102\u001b[0m, in \u001b[0;36mDataFrame.__getitem__\u001b[0;34m(self, key)\u001b[0m\n\u001b[1;32m   4100\u001b[0m \u001b[38;5;28;01mif\u001b[39;00m \u001b[38;5;28mself\u001b[39m\u001b[38;5;241m.\u001b[39mcolumns\u001b[38;5;241m.\u001b[39mnlevels \u001b[38;5;241m>\u001b[39m \u001b[38;5;241m1\u001b[39m:\n\u001b[1;32m   4101\u001b[0m     \u001b[38;5;28;01mreturn\u001b[39;00m \u001b[38;5;28mself\u001b[39m\u001b[38;5;241m.\u001b[39m_getitem_multilevel(key)\n\u001b[0;32m-> 4102\u001b[0m indexer \u001b[38;5;241m=\u001b[39m \u001b[38;5;28;43mself\u001b[39;49m\u001b[38;5;241;43m.\u001b[39;49m\u001b[43mcolumns\u001b[49m\u001b[38;5;241;43m.\u001b[39;49m\u001b[43mget_loc\u001b[49m\u001b[43m(\u001b[49m\u001b[43mkey\u001b[49m\u001b[43m)\u001b[49m\n\u001b[1;32m   4103\u001b[0m \u001b[38;5;28;01mif\u001b[39;00m is_integer(indexer):\n\u001b[1;32m   4104\u001b[0m     indexer \u001b[38;5;241m=\u001b[39m [indexer]\n",
      "File \u001b[0;32m~/miniforge3/envs/02_ml4t/lib/python3.9/site-packages/pandas/core/indexes/base.py:3812\u001b[0m, in \u001b[0;36mIndex.get_loc\u001b[0;34m(self, key)\u001b[0m\n\u001b[1;32m   3807\u001b[0m     \u001b[38;5;28;01mif\u001b[39;00m \u001b[38;5;28misinstance\u001b[39m(casted_key, \u001b[38;5;28mslice\u001b[39m) \u001b[38;5;129;01mor\u001b[39;00m (\n\u001b[1;32m   3808\u001b[0m         \u001b[38;5;28misinstance\u001b[39m(casted_key, abc\u001b[38;5;241m.\u001b[39mIterable)\n\u001b[1;32m   3809\u001b[0m         \u001b[38;5;129;01mand\u001b[39;00m \u001b[38;5;28many\u001b[39m(\u001b[38;5;28misinstance\u001b[39m(x, \u001b[38;5;28mslice\u001b[39m) \u001b[38;5;28;01mfor\u001b[39;00m x \u001b[38;5;129;01min\u001b[39;00m casted_key)\n\u001b[1;32m   3810\u001b[0m     ):\n\u001b[1;32m   3811\u001b[0m         \u001b[38;5;28;01mraise\u001b[39;00m InvalidIndexError(key)\n\u001b[0;32m-> 3812\u001b[0m     \u001b[38;5;28;01mraise\u001b[39;00m \u001b[38;5;167;01mKeyError\u001b[39;00m(key) \u001b[38;5;28;01mfrom\u001b[39;00m \u001b[38;5;21;01merr\u001b[39;00m\n\u001b[1;32m   3813\u001b[0m \u001b[38;5;28;01mexcept\u001b[39;00m \u001b[38;5;167;01mTypeError\u001b[39;00m:\n\u001b[1;32m   3814\u001b[0m     \u001b[38;5;66;03m# If we have a listlike key, _check_indexing_error will raise\u001b[39;00m\n\u001b[1;32m   3815\u001b[0m     \u001b[38;5;66;03m#  InvalidIndexError. Otherwise we fall through and re-raise\u001b[39;00m\n\u001b[1;32m   3816\u001b[0m     \u001b[38;5;66;03m#  the TypeError.\u001b[39;00m\n\u001b[1;32m   3817\u001b[0m     \u001b[38;5;28mself\u001b[39m\u001b[38;5;241m.\u001b[39m_check_indexing_error(key)\n",
      "\u001b[0;31mKeyError\u001b[0m: 'edges'"
     ]
    },
    {
     "data": {
      "image/png": "[encoded data removed]",
      "text/plain": [
       "<Figure size 700x500 with 1 Axes>"
      ]
     },
     "metadata": {},
     "output_type": "display_data"
    }
   ],
   "source": [
    "# fig, ax = plt.subplots(figsize=(7,5))\n",
    "# hist_kws = {'linewidth': 1, 'alpha': .5}\n",
    "# sns.distplot(buy[buy.price.between(240, 250)].set_index('timestamp').between_time(market_open, market_close).price, \n",
    "#              ax=ax, label='Buy', kde=False, hist_kws=hist_kws)\n",
    "# sns.distplot(sell[sell.price.between(240, 250)].set_index('timestamp').between_time(market_open, market_close).price, \n",
    "#              ax=ax, label='Sell', kde=False, hist_kws=hist_kws)\n",
    "\n",
    "# ax.legend(fontsize=10)\n",
    "# ax.set_title('Limit Order Price Distribution')\n",
    "# ax.set_yticklabels([f'{int(y/1000):,}' for y in ax.get_yticks().tolist()])\n",
    "# ax.set_xticklabels([f'${int(x):,}' for x in ax.get_xticks().tolist()])\n",
    "# ax.set_xlabel('Price')\n",
    "# ax.set_ylabel('Shares (\\'000)')\n",
    "# sns.despine()\n",
    "# fig.tight_layout();\n",
    "\n",
    "#######################\n",
    "### Fixed code below, manually creates \n",
    "### the legend by passing the labels directly to ax.legend()\n",
    "#######################\n",
    "\n",
    "fig, ax = plt.subplots(figsize=(7, 5))\n",
    "hist_kws = {'linewidth': 1, 'alpha': .5}\n",
    "\n",
    "# Plot the histograms and store the return values to use for the legend\n",
    "buy_hist = sns.histplot(buy[buy.price.between(630, 640)]\n",
    "                        .set_index('timestamp')\n",
    "                        .between_time(market_open, market_close).price, \n",
    "                        ax=ax, label='Buy', bins=30, kde=False, \n",
    "                        linewidth=hist_kws['linewidth'], alpha=hist_kws['alpha'], color='blue')\n",
    "\n",
    "sell_hist = sns.histplot(sell[sell.price.between(630, 640)]\n",
    "                         .set_index('timestamp')\n",
    "                         .between_time(market_open, market_close).price, \n",
    "                         ax=ax, label='Sell', bins=30, kde=False, \n",
    "                         linewidth=hist_kws['linewidth'], alpha=hist_kws['alpha'], color='orange')\n",
    "\n",
    "# Manually create the legend using the labels for the plotted data\n",
    "ax.legend(labels=['Buy', 'Sell'], fontsize=10)\n",
    "\n",
    "ax.set_title('Limit Order Price Distribution')\n",
    "\n",
    "# Set ticks before setting the tick labels to avoid warnings\n",
    "ax.set_yticks(ax.get_yticks())\n",
    "ax.set_yticklabels([f'{int(y/1000):,}' for y in ax.get_yticks()])\n",
    "\n",
    "ax.set_xticks(ax.get_xticks())\n",
    "ax.set_xticklabels([f'${int(x):,}' for x in ax.get_xticks()])\n",
    "\n",
    "ax.set_xlabel('Price')\n",
    "ax.set_ylabel('Shares (\\'000)')\n",
    "\n",
    "sns.despine()\n",
    "\n",
    "fig.tight_layout()\n"
   ]
  },
  {
   "cell_type": "markdown",
   "metadata": {},
   "source": [
    "### Order Book Depth"
   ]
  },
  {
   "cell_type": "code",
   "execution_count": null,
   "metadata": {
    "ExecuteTime": {
     "end_time": "2020-06-13T21:30:57.807208Z",
     "start_time": "2020-06-13T21:30:57.805558Z"
    }
   },
   "outputs": [],
   "source": [
    "utc_offset = timedelta(hours=4)\n",
    "depth = 100"
   ]
  },
  {
   "cell_type": "code",
   "execution_count": null,
   "metadata": {
    "ExecuteTime": {
     "end_time": "2020-06-13T21:31:04.841481Z",
     "start_time": "2020-06-13T21:30:57.808058Z"
    },
    "scrolled": true
   },
   "outputs": [],
   "source": [
    "buy_per_min = (buy\n",
    "               .groupby([pd.Grouper(key='timestamp', freq='Min'), 'price'])\n",
    "               .shares\n",
    "               .sum()\n",
    "               .apply(np.log)\n",
    "               .to_frame('shares')\n",
    "               .reset_index('price')\n",
    "               .between_time(market_open, market_close)\n",
    "               .groupby(level='timestamp', as_index=False, group_keys=False)\n",
    "               .apply(lambda x: x.nlargest(columns='price', n=depth))\n",
    "               .reset_index())\n",
    "buy_per_min.timestamp = buy_per_min.timestamp.add(utc_offset).astype(int)\n",
    "buy_per_min.info()"
   ]
  },
  {
   "cell_type": "code",
   "execution_count": null,
   "metadata": {
    "ExecuteTime": {
     "end_time": "2020-06-13T21:31:10.525474Z",
     "start_time": "2020-06-13T21:31:04.842356Z"
    }
   },
   "outputs": [],
   "source": [
    "sell_per_min = (sell\n",
    "                .groupby([pd.Grouper(key='timestamp', freq='Min'), 'price'])\n",
    "                .shares\n",
    "                .sum()\n",
    "                .apply(np.log)\n",
    "                .to_frame('shares')\n",
    "                .reset_index('price')\n",
    "                .between_time(market_open, market_close)\n",
    "                .groupby(level='timestamp', as_index=False, group_keys=False)\n",
    "                .apply(lambda x: x.nsmallest(columns='price', n=depth))\n",
    "                .reset_index())\n",
    "\n",
    "sell_per_min.timestamp = sell_per_min.timestamp.add(utc_offset).astype(int)\n",
    "sell_per_min.info()"
   ]
  },
  {
   "cell_type": "code",
   "execution_count": null,
   "metadata": {
    "ExecuteTime": {
     "end_time": "2020-06-13T21:31:10.546453Z",
     "start_time": "2020-06-13T21:31:10.526419Z"
    }
   },
   "outputs": [],
   "source": [
    "with pd.HDFStore(order_book_store) as store:\n",
    "    trades = store[f'{stock}/trades']\n",
    "trades.price = trades.price.mul(1e-4)\n",
    "trades = trades[trades.cross == 0].between_time(market_open, market_close)\n",
    "\n",
    "trades_per_min = (trades\n",
    "                  .resample('Min')\n",
    "                  .agg({'price': 'mean', 'shares': 'sum'}))\n",
    "trades_per_min.index = trades_per_min.index.to_series().add(utc_offset).astype(int)\n",
    "trades_per_min.info()"
   ]
  },
  {
   "cell_type": "markdown",
   "metadata": {},
   "source": [
    "The following plots the evolution of limit orders and prices throughout the trading day: the dark line tracks the prices for executed trades during market hours, whereas the red and blue dots indicate individual limit orders on a per-minute basis (see notebook for details)"
   ]
  },
  {
   "cell_type": "code",
   "execution_count": null,
   "metadata": {
    "ExecuteTime": {
     "end_time": "2020-06-13T21:31:15.471666Z",
     "start_time": "2020-06-13T21:31:10.547575Z"
    }
   },
   "outputs": [],
   "source": [
    "# sns.set_style('white')\n",
    "# fig, ax = plt.subplots(figsize=(14, 6))\n",
    "\n",
    "# buy_per_min.plot.scatter(x='timestamp',\n",
    "#                          y='price', \n",
    "#                          c='shares', \n",
    "#                          ax=ax, \n",
    "#                          colormap='Blues', \n",
    "#                          colorbar=False, \n",
    "#                          alpha=.25)\n",
    "\n",
    "# sell_per_min.plot.scatter(x='timestamp',\n",
    "#                           y='price', \n",
    "#                           c='shares', \n",
    "#                           ax=ax, \n",
    "#                           colormap='Reds', \n",
    "#                           colorbar=False, \n",
    "#                           alpha=.25)\n",
    "\n",
    "# title = f'TSLA | {date} | Buy & Sell Limit Order Book | Depth = {depth}'\n",
    "# trades_per_min.price.plot(figsize=(14, 8), \n",
    "#                           c='k', \n",
    "#                           ax=ax, \n",
    "#                           lw=2, \n",
    "#                           title=title)\n",
    "\n",
    "# xticks = [datetime.fromtimestamp(ts / 1e9).strftime('%H:%M') for ts in ax.get_xticks()]\n",
    "# ax.set_xticklabels(xticks)\n",
    "\n",
    "# ax.set_xlabel('')\n",
    "# ax.set_ylabel('Price', fontsize=12)\n",
    "\n",
    "# red_patch = mpatches.Patch(color='red', label='Sell')\n",
    "# blue_patch = mpatches.Patch(color='royalblue', label='Buy')\n",
    "\n",
    "# plt.legend(handles=[red_patch, blue_patch])\n",
    "# sns.despine()\n",
    "# fig.tight_layout()\n",
    "\n",
    "#############################\n",
    "######## REVISED CODE FOLLOWS\n",
    "#############################\n",
    "\n",
    "## Check Data - uncomment when needed.\n",
    "# print(buy_per_min.columns)\n",
    "# print(sell_per_min.columns)\n",
    "# print(trades_per_min.columns)\n",
    "\n",
    "import matplotlib.dates as mdates\n",
    "\n",
    "# Ensure 'timestamp' column is in datetime format for buy_per_min and sell_per_min\n",
    "buy_per_min['timestamp'] = pd.to_datetime(buy_per_min['timestamp'], unit='ns')\n",
    "sell_per_min['timestamp'] = pd.to_datetime(sell_per_min['timestamp'], unit='ns')\n",
    "\n",
    "# Convert index of trades_per_min to datetime if not already\n",
    "# trades_per_min.index = pd.to_datetime(trades_per_min.index, unit='ns')\n",
    "\n",
    "# Plot the scatter for buy and sell data\n",
    "sns.set_style('white')\n",
    "fig, ax = plt.subplots(figsize=(14, 6))\n",
    "\n",
    "\n",
    "# Plot the trades_per_min, using its index for the x-axis\n",
    "title = f'TSLA | {date} | Buy & Sell Limit Order Book | Depth = {depth}'\n",
    "#trades_per_min.plot(x=trades_per_min.index, y='price', ax=ax, c='k', lw=2, title=title)\n",
    "\n",
    "trades_per_min.price.plot(figsize=(14, 8), \n",
    "                           c='k', \n",
    "                           ax=ax, \n",
    "                           lw=2, \n",
    "                           title=title)\n",
    "\n",
    "\n",
    "buy_per_min.plot.scatter(x='timestamp',\n",
    "                         y='price', \n",
    "                         c='shares',\n",
    "                         s=50,\n",
    "                         ax=ax, \n",
    "                         colormap='Blues', \n",
    "                         colorbar=False, \n",
    "                         alpha=.25)\n",
    "\n",
    "sell_per_min.plot.scatter(x='timestamp',\n",
    "                          y='price', \n",
    "                          c='shares',\n",
    "                          s=50,\n",
    "                          ax=ax, \n",
    "                          colormap='Reds', \n",
    "                          colorbar=False, \n",
    "                          alpha=.25)\n",
    "# Format x-axis to display datetime in HH:MM format\n",
    "# ax.xaxis.set_major_formatter(mdates.DateFormatter('%H:%M'))\n",
    "# ax.xaxis.set_major_locator(mdates.HourLocator(interval=1))\n",
    "ax.set_xticks(ax.get_xticks())\n",
    "xticks = [datetime.fromtimestamp(ts / 1e9).strftime('%H:%M') for ts in ax.get_xticks()]\n",
    "ax.set_xticklabels(xticks)\n",
    "\n",
    "# Set x-ticks before setting the labels\n",
    "# ax.set_xticks(ax.get_xticks())\n",
    "# xticks = [mdates.num2date(ts).strftime('%H:%M') for ts in ax.get_xticks()]\n",
    "# ax.set_xticklabels(xticks)\n",
    "\n",
    "ax.set_xlabel('')\n",
    "ax.set_ylabel('Price', fontsize=12)\n",
    "\n",
    "# Add legend manually\n",
    "red_patch = mpatches.Patch(color='red', label='Sell')\n",
    "blue_patch = mpatches.Patch(color='royalblue', label='Buy')\n",
    "plt.legend(handles=[red_patch, blue_patch])\n",
    "\n",
    "sns.despine()\n",
    "fig.tight_layout()\n"
   ]
  },
  {
   "cell_type": "code",
   "execution_count": null,
   "metadata": {},
   "outputs": [],
   "source": []
  }
 ],
 "metadata": {
  "kernelspec": {
   "display_name": "Python 3.9 (02_ml4t)",
   "language": "python",
   "name": "myenv"
  },
  "language_info": {
   "codemirror_mode": {
    "name": "ipython",
    "version": 3
   },
   "file_extension": ".py",
   "mimetype": "text/x-python",
   "name": "python",
   "nbconvert_exporter": "python",
   "pygments_lexer": "ipython3",
   "version": "3.9.19"
  },
  "toc": {
   "base_numbering": 1,
   "nav_menu": {},
   "number_sections": true,
   "sideBar": true,
   "skip_h1_title": true,
   "title_cell": "Table of Contents",
   "title_sidebar": "Contents",
   "toc_cell": false,
   "toc_position": {
    "height": "calc(100% - 180px)",
    "left": "10px",
    "top": "150px",
    "width": "295px"
   },
   "toc_section_display": true,
   "toc_window_display": true
  }
 },
 "nbformat": 4,
 "nbformat_minor": 4
}
